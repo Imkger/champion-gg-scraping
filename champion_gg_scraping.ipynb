{
 "cells": [
  {
   "cell_type": "code",
   "execution_count": 1,
   "metadata": {
    "collapsed": true
   },
   "outputs": [],
   "source": [
    "import requests\n",
    "import pandas as pd\n",
    "import sys\n",
    "if sys.version_info[0] < 3: \n",
    "    from StringIO import StringIO\n",
    "else:\n",
    "    from io import StringIO"
   ]
  },
  {
   "cell_type": "code",
   "execution_count": 2,
   "metadata": {},
   "outputs": [],
   "source": [
    "stats_page = requests.get(\"http://champion.gg/statistics\")\n",
    "if stats_page.status_code ==200:\n",
    "    stats_page = stats_page.text\n",
    "else:\n",
    "    raise ValueError(\"Error fetching stats: \"+str(stats_page.status_code))"
   ]
  },
  {
   "cell_type": "code",
   "execution_count": 3,
   "metadata": {},
   "outputs": [],
   "source": [
    "match_str = 'matchupData.stats = '\n",
    "stat_data_start = stats_page[stats_page.find(match_str)+len(match_str):]\n",
    "stat_data = stat_data_start[:stat_data_start.find(';')]"
   ]
  },
  {
   "cell_type": "code",
   "execution_count": 4,
   "metadata": {},
   "outputs": [
    {
     "data": {
      "text/html": [
       "<div>\n",
       "<style>\n",
       "    .dataframe thead tr:only-child th {\n",
       "        text-align: right;\n",
       "    }\n",
       "\n",
       "    .dataframe thead th {\n",
       "        text-align: left;\n",
       "    }\n",
       "\n",
       "    .dataframe tbody tr th {\n",
       "        vertical-align: top;\n",
       "    }\n",
       "</style>\n",
       "<table border=\"1\" class=\"dataframe\">\n",
       "  <thead>\n",
       "    <tr style=\"text-align: right;\">\n",
       "      <th></th>\n",
       "      <th>role</th>\n",
       "    </tr>\n",
       "    <tr>\n",
       "      <th>key</th>\n",
       "      <th></th>\n",
       "    </tr>\n",
       "  </thead>\n",
       "  <tbody>\n",
       "    <tr>\n",
       "      <th>Aatrox</th>\n",
       "      <td>Top</td>\n",
       "    </tr>\n",
       "    <tr>\n",
       "      <th>Ahri</th>\n",
       "      <td>Middle</td>\n",
       "    </tr>\n",
       "    <tr>\n",
       "      <th>Akali</th>\n",
       "      <td>Top</td>\n",
       "    </tr>\n",
       "    <tr>\n",
       "      <th>Akali</th>\n",
       "      <td>Middle</td>\n",
       "    </tr>\n",
       "    <tr>\n",
       "      <th>Alistar</th>\n",
       "      <td>Support</td>\n",
       "    </tr>\n",
       "  </tbody>\n",
       "</table>\n",
       "</div>"
      ],
      "text/plain": [
       "            role\n",
       "key             \n",
       "Aatrox       Top\n",
       "Ahri      Middle\n",
       "Akali        Top\n",
       "Akali     Middle\n",
       "Alistar  Support"
      ]
     },
     "execution_count": 4,
     "metadata": {},
     "output_type": "execute_result"
    }
   ],
   "source": [
    "df = pd.read_json(StringIO(stat_data), orient='record')\n",
    "df = df.set_index(['key'])\n",
    "df = df.sort_index()\n",
    "df = df.drop('title',axis =1)\n",
    "df = df.drop('general',axis =1)\n",
    "df.head()"
   ]
  },
  {
   "cell_type": "code",
   "execution_count": 5,
   "metadata": {},
   "outputs": [],
   "source": [
    "base_url = \"http://champion.gg/champion/\"\n",
    "urls = [base_url+champ+\"/\"+role['role'] for champ, role in df.iterrows()]\n",
    "exp_dict = {}\n",
    "champ_list = [champ for champ,_ in df.iterrows()]\n",
    "champ_1 = []\n",
    "champ_2 = []\n",
    "champ_3 = []\n",
    "champ_4 = []\n",
    "champ_5 = []\n",
    "\n",
    "for url in urls:\n",
    "    champ_page = requests.get(url)\n",
    "    if champ_page.status_code == 200:\n",
    "        champ_page = champ_page.text\n",
    "    else:\n",
    "        ValueError('Error requesting '+url+' status:'+champ_page.status_code)\n",
    "    match_str = 'matchupData.championData = '\n",
    "    champ_stats_start = champ_page[champ_page.find(match_str)+len(match_str):]\n",
    "    match_str = '\\\"experienceRate\\\":'\n",
    "    champ_stats_start = champ_stats_start[champ_stats_start.find(match_str)+len(match_str):]\n",
    "    champ_stats = champ_stats_start[1:champ_stats_start.find(']')]\n",
    "    champ_stats = [stat[1:-1] for stat in champ_stats.split(',')]\n",
    "    champ_1 += [champ_stats[0]]\n",
    "    champ_2 += [champ_stats[1]]\n",
    "    champ_3 += [champ_stats[2]]\n",
    "    champ_4 += [champ_stats[3]]\n",
    "    champ_5 += [champ_stats[4]]\n",
    "    pass"
   ]
  },
  {
   "cell_type": "code",
   "execution_count": 6,
   "metadata": {},
   "outputs": [],
   "source": [
    "champ_df = pd.DataFrame(data={\n",
    "    'Role': [role['role'] for _,role in df.iterrows()],\n",
    "    '1-50': champ_1,\n",
    "    '51-100': champ_2,\n",
    "    '101-150': champ_3,\n",
    "    '151-200': champ_4,\n",
    "    '201+': champ_5\n",
    "},index=champ_list)"
   ]
  },
  {
   "cell_type": "code",
   "execution_count": 7,
   "metadata": {},
   "outputs": [
    {
     "data": {
      "text/html": [
       "<div>\n",
       "<style>\n",
       "    .dataframe thead tr:only-child th {\n",
       "        text-align: right;\n",
       "    }\n",
       "\n",
       "    .dataframe thead th {\n",
       "        text-align: left;\n",
       "    }\n",
       "\n",
       "    .dataframe tbody tr th {\n",
       "        vertical-align: top;\n",
       "    }\n",
       "</style>\n",
       "<table border=\"1\" class=\"dataframe\">\n",
       "  <thead>\n",
       "    <tr style=\"text-align: right;\">\n",
       "      <th></th>\n",
       "      <th>1-50</th>\n",
       "      <th>101-150</th>\n",
       "      <th>151-200</th>\n",
       "      <th>201+</th>\n",
       "      <th>51-100</th>\n",
       "      <th>Role</th>\n",
       "    </tr>\n",
       "  </thead>\n",
       "  <tbody>\n",
       "    <tr>\n",
       "      <th>Aatrox</th>\n",
       "      <td>49.51</td>\n",
       "      <td>55.05</td>\n",
       "      <td>55.42</td>\n",
       "      <td>53.95</td>\n",
       "      <td>55.07</td>\n",
       "      <td>Top</td>\n",
       "    </tr>\n",
       "    <tr>\n",
       "      <th>Ahri</th>\n",
       "      <td>53.93</td>\n",
       "      <td>56.11</td>\n",
       "      <td>55.80</td>\n",
       "      <td>55.46</td>\n",
       "      <td>56.46</td>\n",
       "      <td>Middle</td>\n",
       "    </tr>\n",
       "    <tr>\n",
       "      <th>Akali</th>\n",
       "      <td>50.89</td>\n",
       "      <td>55.63</td>\n",
       "      <td>55.44</td>\n",
       "      <td>54.70</td>\n",
       "      <td>56.36</td>\n",
       "      <td>Top</td>\n",
       "    </tr>\n",
       "    <tr>\n",
       "      <th>Akali</th>\n",
       "      <td>50.40</td>\n",
       "      <td>55.53</td>\n",
       "      <td>55.76</td>\n",
       "      <td>54.41</td>\n",
       "      <td>56.36</td>\n",
       "      <td>Middle</td>\n",
       "    </tr>\n",
       "    <tr>\n",
       "      <th>Alistar</th>\n",
       "      <td>50.23</td>\n",
       "      <td>54.59</td>\n",
       "      <td>55.02</td>\n",
       "      <td>58.08</td>\n",
       "      <td>54.22</td>\n",
       "      <td>Support</td>\n",
       "    </tr>\n",
       "  </tbody>\n",
       "</table>\n",
       "</div>"
      ],
      "text/plain": [
       "          1-50 101-150 151-200   201+ 51-100     Role\n",
       "Aatrox   49.51   55.05   55.42  53.95  55.07      Top\n",
       "Ahri     53.93   56.11   55.80  55.46  56.46   Middle\n",
       "Akali    50.89   55.63   55.44  54.70  56.36      Top\n",
       "Akali    50.40   55.53   55.76  54.41  56.36   Middle\n",
       "Alistar  50.23   54.59   55.02  58.08  54.22  Support"
      ]
     },
     "execution_count": 7,
     "metadata": {},
     "output_type": "execute_result"
    }
   ],
   "source": [
    "champ_df.head()"
   ]
  },
  {
   "cell_type": "code",
   "execution_count": 9,
   "metadata": {
    "collapsed": true
   },
   "outputs": [],
   "source": [
    "champ_df.to_csv('data.csv',';')"
   ]
  }
 ],
 "metadata": {
  "kernelspec": {
   "display_name": "Python 3",
   "language": "python",
   "name": "python3"
  },
  "language_info": {
   "codemirror_mode": {
    "name": "ipython",
    "version": 3
   },
   "file_extension": ".py",
   "mimetype": "text/x-python",
   "name": "python",
   "nbconvert_exporter": "python",
   "pygments_lexer": "ipython3",
   "version": "3.5.3"
  }
 },
 "nbformat": 4,
 "nbformat_minor": 2
}
